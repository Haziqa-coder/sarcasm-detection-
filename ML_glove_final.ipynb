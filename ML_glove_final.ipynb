{
  "nbformat": 4,
  "nbformat_minor": 0,
  "metadata": {
    "colab": {
      "name": "ML_glove_final.ipynb",
      "provenance": [],
      "collapsed_sections": []
    },
    "kernelspec": {
      "name": "python3",
      "display_name": "Python 3"
    },
    "language_info": {
      "name": "python"
    },
    "accelerator": "GPU"
  },
  "cells": [
    {
      "cell_type": "code",
      "metadata": {
        "id": "irM_-SrS7JAw",
        "colab": {
          "base_uri": "https://localhost:8080/"
        },
        "outputId": "79978f2a-3554-4fd6-b398-bfbab76306d9"
      },
      "source": [
        "from google.colab import drive\n",
        "drive.mount('/content/drive/')"
      ],
      "execution_count": null,
      "outputs": [
        {
          "output_type": "stream",
          "name": "stdout",
          "text": [
            "Mounted at /content/drive/\n"
          ]
        }
      ]
    },
    {
      "cell_type": "code",
      "metadata": {
        "colab": {
          "base_uri": "https://localhost:8080/"
        },
        "id": "qtnPnAT1tp46",
        "outputId": "a9369857-cadf-4d59-f656-ef50e2d15851"
      },
      "source": [
        "import numpy as np # linear algebra\n",
        "import pandas as pd # data processing, CSV file I/O (e.g. pd.read_csv)\n",
        "\n",
        "from sklearn.feature_extraction.text import CountVectorizer\n",
        "from keras.preprocessing.text import Tokenizer\n",
        "from sklearn.model_selection import train_test_split\n",
        "from keras.utils.np_utils import to_categorical\n",
        "import re\n",
        "\n",
        "import tensorflow as tf\n",
        "\n",
        "from tqdm import tqdm\n",
        "\n",
        "import keras\n",
        "from keras.initializers import Constant\n",
        "\n",
        "!pip install np_utils\n",
        "from keras.utils import np_utils\n",
        "\n",
        "\n",
        "from keras.layers.embeddings import Embedding\n",
        "from keras.preprocessing import text, sequence\n",
        "\n",
        "\n",
        "# Import Plotting Libararies\n",
        "import seaborn as sn\n",
        "import matplotlib.pyplot as plt\n",
        "from sklearn.model_selection import train_test_split\n",
        "\n",
        "# Model Evaluation Libraries\n",
        "from sklearn.metrics import classification_report, confusion_matrix\n",
        "!pip install gensim\n",
        "import gensim\n"
      ],
      "execution_count": null,
      "outputs": [
        {
          "output_type": "stream",
          "name": "stdout",
          "text": [
            "Collecting np_utils\n",
            "  Downloading np_utils-0.5.12.1.tar.gz (61 kB)\n",
            "\u001b[?25l\r\u001b[K     |█████▍                          | 10 kB 28.6 MB/s eta 0:00:01\r\u001b[K     |██████████▊                     | 20 kB 23.2 MB/s eta 0:00:01\r\u001b[K     |████████████████                | 30 kB 11.4 MB/s eta 0:00:01\r\u001b[K     |█████████████████████▍          | 40 kB 9.2 MB/s eta 0:00:01\r\u001b[K     |██████████████████████████▊     | 51 kB 5.4 MB/s eta 0:00:01\r\u001b[K     |████████████████████████████████| 61 kB 3.5 MB/s \n",
            "\u001b[?25hRequirement already satisfied: numpy>=1.0 in /usr/local/lib/python3.7/dist-packages (from np_utils) (1.19.5)\n",
            "Requirement already satisfied: future>=0.16 in /usr/local/lib/python3.7/dist-packages (from np_utils) (0.16.0)\n",
            "Building wheels for collected packages: np-utils\n",
            "  Building wheel for np-utils (setup.py) ... \u001b[?25l\u001b[?25hdone\n",
            "  Created wheel for np-utils: filename=np_utils-0.5.12.1-py3-none-any.whl size=57131 sha256=7a58a2705bf97da58740958c6dfcc397cfa8cfe949f088d123551f7f1da52cbb\n",
            "  Stored in directory: /root/.cache/pip/wheels/8c/4e/ef/095c24693723c329f4cdc1079861cdbb2487d4b41b2496a4e7\n",
            "Successfully built np-utils\n",
            "Installing collected packages: np-utils\n",
            "Successfully installed np-utils-0.5.12.1\n",
            "Requirement already satisfied: gensim in /usr/local/lib/python3.7/dist-packages (3.6.0)\n",
            "Requirement already satisfied: numpy>=1.11.3 in /usr/local/lib/python3.7/dist-packages (from gensim) (1.19.5)\n",
            "Requirement already satisfied: six>=1.5.0 in /usr/local/lib/python3.7/dist-packages (from gensim) (1.15.0)\n",
            "Requirement already satisfied: scipy>=0.18.1 in /usr/local/lib/python3.7/dist-packages (from gensim) (1.4.1)\n",
            "Requirement already satisfied: smart-open>=1.2.1 in /usr/local/lib/python3.7/dist-packages (from gensim) (5.2.1)\n"
          ]
        }
      ]
    },
    {
      "cell_type": "code",
      "metadata": {
        "id": "96HSeXxSmpMq"
      },
      "source": [
        "\n",
        "# Load Google's pre-trained Word2Vec model.\n",
        "#model = gensim.models.KeyedVectors.load_word2vec_format('/content/drive/My Drive/nlp/GoogleNews-vectors-negative300.bin', binary=True)  "
      ],
      "execution_count": null,
      "outputs": []
    },
    {
      "cell_type": "code",
      "metadata": {
        "id": "M4ct8KKXuLlk"
      },
      "source": [
        "data = pd.read_csv(\"/content/drive/My Drive/nlp/Sarcasm Dataset.csv\")"
      ],
      "execution_count": null,
      "outputs": []
    },
    {
      "cell_type": "code",
      "metadata": {
        "colab": {
          "base_uri": "https://localhost:8080/"
        },
        "id": "U3P_HLbUuL7E",
        "outputId": "f93293cc-dc49-4269-c026-baddf9a1d1e6"
      },
      "source": [
        "#data = data.dropna()\n",
        "\n",
        "data = data[['tweet', 'sarcastic']]\n",
        "\n",
        "\n",
        "X = data['tweet'].fillna(\"\")\n",
        "Y = data[\"sarcastic\"]\n",
        "data.shape"
      ],
      "execution_count": null,
      "outputs": [
        {
          "output_type": "execute_result",
          "data": {
            "text/plain": [
              "(3468, 2)"
            ]
          },
          "metadata": {},
          "execution_count": 6
        }
      ]
    },
    {
      "cell_type": "code",
      "metadata": {
        "colab": {
          "base_uri": "https://localhost:8080/",
          "height": 363
        },
        "id": "uS5Xj6jl7bxG",
        "outputId": "89ad095d-77f8-476b-db91-7a1a485b7511"
      },
      "source": [
        "data.head(10)"
      ],
      "execution_count": null,
      "outputs": [
        {
          "output_type": "execute_result",
          "data": {
            "text/html": [
              "<div>\n",
              "<style scoped>\n",
              "    .dataframe tbody tr th:only-of-type {\n",
              "        vertical-align: middle;\n",
              "    }\n",
              "\n",
              "    .dataframe tbody tr th {\n",
              "        vertical-align: top;\n",
              "    }\n",
              "\n",
              "    .dataframe thead th {\n",
              "        text-align: right;\n",
              "    }\n",
              "</style>\n",
              "<table border=\"1\" class=\"dataframe\">\n",
              "  <thead>\n",
              "    <tr style=\"text-align: right;\">\n",
              "      <th></th>\n",
              "      <th>tweet</th>\n",
              "      <th>sarcastic</th>\n",
              "    </tr>\n",
              "  </thead>\n",
              "  <tbody>\n",
              "    <tr>\n",
              "      <th>0</th>\n",
              "      <td>The only thing I got from college is a caffein...</td>\n",
              "      <td>1</td>\n",
              "    </tr>\n",
              "    <tr>\n",
              "      <th>1</th>\n",
              "      <td>I love it when professors draw a big question ...</td>\n",
              "      <td>1</td>\n",
              "    </tr>\n",
              "    <tr>\n",
              "      <th>2</th>\n",
              "      <td>Remember the hundred emails from companies whe...</td>\n",
              "      <td>1</td>\n",
              "    </tr>\n",
              "    <tr>\n",
              "      <th>3</th>\n",
              "      <td>Today my pop-pop told me I was not “forced” to...</td>\n",
              "      <td>1</td>\n",
              "    </tr>\n",
              "    <tr>\n",
              "      <th>4</th>\n",
              "      <td>@VolphanCarol @littlewhitty @mysticalmanatee I...</td>\n",
              "      <td>1</td>\n",
              "    </tr>\n",
              "    <tr>\n",
              "      <th>5</th>\n",
              "      <td>@jimrossignol I choose to interpret it as \"XD\"...</td>\n",
              "      <td>1</td>\n",
              "    </tr>\n",
              "    <tr>\n",
              "      <th>6</th>\n",
              "      <td>Why would Alexa's recipe for Yorkshire pudding...</td>\n",
              "      <td>1</td>\n",
              "    </tr>\n",
              "    <tr>\n",
              "      <th>7</th>\n",
              "      <td>someone hit me w a horse tranquilizer istg ive...</td>\n",
              "      <td>1</td>\n",
              "    </tr>\n",
              "    <tr>\n",
              "      <th>8</th>\n",
              "      <td>Loving season 4 of trump does America. Funnies...</td>\n",
              "      <td>1</td>\n",
              "    </tr>\n",
              "    <tr>\n",
              "      <th>9</th>\n",
              "      <td>Holly Arnold ??? Who #ImACeleb  #MBE nope not ...</td>\n",
              "      <td>1</td>\n",
              "    </tr>\n",
              "  </tbody>\n",
              "</table>\n",
              "</div>"
            ],
            "text/plain": [
              "                                               tweet  sarcastic\n",
              "0  The only thing I got from college is a caffein...          1\n",
              "1  I love it when professors draw a big question ...          1\n",
              "2  Remember the hundred emails from companies whe...          1\n",
              "3  Today my pop-pop told me I was not “forced” to...          1\n",
              "4  @VolphanCarol @littlewhitty @mysticalmanatee I...          1\n",
              "5  @jimrossignol I choose to interpret it as \"XD\"...          1\n",
              "6  Why would Alexa's recipe for Yorkshire pudding...          1\n",
              "7  someone hit me w a horse tranquilizer istg ive...          1\n",
              "8  Loving season 4 of trump does America. Funnies...          1\n",
              "9  Holly Arnold ??? Who #ImACeleb  #MBE nope not ...          1"
            ]
          },
          "metadata": {},
          "execution_count": 7
        }
      ]
    },
    {
      "cell_type": "code",
      "metadata": {
        "colab": {
          "base_uri": "https://localhost:8080/",
          "height": 35
        },
        "id": "Jzpt1a5oA1MO",
        "outputId": "015b0391-1f51-4f9e-acd4-ca6028310142"
      },
      "source": [
        "# We'll write a function which will clean the text and prepare it.\n",
        "def cleanText(text):\n",
        "    cleaned = re.sub(\"[^a-zA-Z0-9']\",\" \",text)\n",
        "    lowered = cleaned.lower()\n",
        "    return lowered.strip()\n",
        "\n",
        "cleanText(\"Let's test our function, by writing this string!\")"
      ],
      "execution_count": null,
      "outputs": [
        {
          "output_type": "execute_result",
          "data": {
            "application/vnd.google.colaboratory.intrinsic+json": {
              "type": "string"
            },
            "text/plain": [
              "\"let's test our function  by writing this string\""
            ]
          },
          "metadata": {},
          "execution_count": 8
        }
      ]
    },
    {
      "cell_type": "code",
      "metadata": {
        "colab": {
          "base_uri": "https://localhost:8080/"
        },
        "id": "LvlDI-d6A1-j",
        "outputId": "57e2f5bb-b714-4b87-e260-3edc4b945d66"
      },
      "source": [
        "\n",
        "x_cleaned = [cleanText(t) for t in X]\n",
        "x_cleaned[:4]"
      ],
      "execution_count": null,
      "outputs": [
        {
          "output_type": "execute_result",
          "data": {
            "text/plain": [
              "['the only thing i got from college is a caffeine addiction',\n",
              " 'i love it when professors draw a big question mark next to my answer on an exam because i m always like yeah i don t either',\n",
              " 'remember the hundred emails from companies when covid started getting real  i ve gotten three in regards to support for protests  and only  savagexfenty shared helpful links and actually said black lives matter    we love capitalism',\n",
              " 'today my pop pop told me i was not  forced  to go to college   okay sure sureeee']"
            ]
          },
          "metadata": {},
          "execution_count": 9
        }
      ]
    },
    {
      "cell_type": "code",
      "metadata": {
        "colab": {
          "base_uri": "https://localhost:8080/"
        },
        "id": "E8OS88X18Jan",
        "outputId": "9079dc9f-5266-4b35-c4e3-16b9470d0241"
      },
      "source": [
        "x_tokenized = [[w for w in sentence.split(\" \") if w != \"\"] for sentence in x_cleaned]\n",
        "x_tokenized[2]"
      ],
      "execution_count": null,
      "outputs": [
        {
          "output_type": "execute_result",
          "data": {
            "text/plain": [
              "['remember',\n",
              " 'the',\n",
              " 'hundred',\n",
              " 'emails',\n",
              " 'from',\n",
              " 'companies',\n",
              " 'when',\n",
              " 'covid',\n",
              " 'started',\n",
              " 'getting',\n",
              " 'real',\n",
              " 'i',\n",
              " 've',\n",
              " 'gotten',\n",
              " 'three',\n",
              " 'in',\n",
              " 'regards',\n",
              " 'to',\n",
              " 'support',\n",
              " 'for',\n",
              " 'protests',\n",
              " 'and',\n",
              " 'only',\n",
              " 'savagexfenty',\n",
              " 'shared',\n",
              " 'helpful',\n",
              " 'links',\n",
              " 'and',\n",
              " 'actually',\n",
              " 'said',\n",
              " 'black',\n",
              " 'lives',\n",
              " 'matter',\n",
              " 'we',\n",
              " 'love',\n",
              " 'capitalism']"
            ]
          },
          "metadata": {},
          "execution_count": 10
        }
      ]
    },
    {
      "cell_type": "code",
      "metadata": {
        "colab": {
          "base_uri": "https://localhost:8080/"
        },
        "id": "8bzHp5KzEOnF",
        "outputId": "6a1c0317-55d6-4cb2-9963-6d37668b8848"
      },
      "source": [
        "len(x_tokenized)\n"
      ],
      "execution_count": null,
      "outputs": [
        {
          "output_type": "execute_result",
          "data": {
            "text/plain": [
              "3468"
            ]
          },
          "metadata": {},
          "execution_count": 11
        }
      ]
    },
    {
      "cell_type": "code",
      "metadata": {
        "colab": {
          "base_uri": "https://localhost:8080/"
        },
        "id": "_9UObh_Vqqrm",
        "outputId": "ad2e6bde-79f5-4e80-c853-195e2a9207d8"
      },
      "source": [
        "from gensim.models import KeyedVectors\n",
        "# load the Stanford GloVe model\n",
        "word2vec_output_file = \"/content/drive/My Drive/nlp/glove.6B.50d.txt.word2vec\"\n",
        "model = KeyedVectors.load_word2vec_format(word2vec_output_file, binary=False)\n",
        "\n",
        "#Show a word embedding\n",
        "print('King: ',model.get_vector('king'))\n",
        "\n",
        "result = model.most_similar(positive=['woman', 'king'], negative=['man'], topn=1)\n",
        "\n",
        "print('Most similar word to King + Woman: ', result)\n"
      ],
      "execution_count": null,
      "outputs": [
        {
          "output_type": "stream",
          "name": "stdout",
          "text": [
            "King:  [ 0.50451   0.68607  -0.59517  -0.022801  0.60046  -0.13498  -0.08813\n",
            "  0.47377  -0.61798  -0.31012  -0.076666  1.493    -0.034189 -0.98173\n",
            "  0.68229   0.81722  -0.51874  -0.31503  -0.55809   0.66421   0.1961\n",
            " -0.13495  -0.11476  -0.30344   0.41177  -2.223    -1.0756   -1.0783\n",
            " -0.34354   0.33505   1.9927   -0.04234  -0.64319   0.71125   0.49159\n",
            "  0.16754   0.34344  -0.25663  -0.8523    0.1661    0.40102   1.1685\n",
            " -1.0137   -0.21585  -0.15155   0.78321  -0.91241  -1.6106   -0.64426\n",
            " -0.51042 ]\n",
            "Most similar word to King + Woman:  [('queen', 0.8523603677749634)]\n"
          ]
        }
      ]
    },
    {
      "cell_type": "code",
      "metadata": {
        "id": "PDoQq9nKrUPb"
      },
      "source": [
        "class Word2VecVectorizer:\n",
        "  def __init__(self, model):\n",
        "    print(\"Loading in word vectors...\")\n",
        "    self.word_vectors = model\n",
        "    print(\"Finished loading in word vectors\")\n",
        "\n",
        "  def fit(self, data):\n",
        "    pass\n",
        "\n",
        "  def transform(self, data):\n",
        "    # determine the dimensionality of vectors\n",
        "    v = self.word_vectors.get_vector('king')\n",
        "    self.D = v.shape[0]\n",
        "\n",
        "    X = np.zeros((len(data), self.D))\n",
        "    n = 0\n",
        "    emptycount = 0\n",
        "    for sentence in data:\n",
        "      tokens = str(sentence).split()\n",
        "      vecs = []\n",
        "      m = 0\n",
        "      for word in tokens:\n",
        "        try:\n",
        "          # throws KeyError if word not found\n",
        "          vec = self.word_vectors.get_vector(word)\n",
        "          vecs.append(vec)\n",
        "          m += 1\n",
        "        except KeyError:\n",
        "          pass\n",
        "      if len(vecs) > 0:\n",
        "        vecs = np.array(vecs)\n",
        "        X[n] = vecs.mean(axis=0)\n",
        "      else:\n",
        "        emptycount += 1\n",
        "      n += 1\n",
        "    print(\"Numer of samples with no words found: %s / %s\" % (emptycount, len(data)))\n",
        "    return X\n",
        "\n",
        "\n",
        "  def fit_transform(self, data):\n",
        "    self.fit(data)\n",
        "    return self.transform(data)\n"
      ],
      "execution_count": null,
      "outputs": []
    },
    {
      "cell_type": "code",
      "metadata": {
        "colab": {
          "base_uri": "https://localhost:8080/"
        },
        "id": "Bu0vt2Nfr_wB",
        "outputId": "bb7cf038-a0aa-4132-8e26-a33cd68ffc5c"
      },
      "source": [
        "x_train,x_test,y_train,y_test = train_test_split(data[\"tweet\"],data[\"sarcastic\"],test_size=0.3,random_state=42)\n",
        "print(x_train.shape)\n",
        "print(x_test.shape)\n",
        "print(y_train.shape)\n",
        "print(y_test.shape)"
      ],
      "execution_count": null,
      "outputs": [
        {
          "output_type": "stream",
          "name": "stdout",
          "text": [
            "(2427,)\n",
            "(1041,)\n",
            "(2427,)\n",
            "(1041,)\n"
          ]
        }
      ]
    },
    {
      "cell_type": "code",
      "metadata": {
        "colab": {
          "base_uri": "https://localhost:8080/"
        },
        "id": "zOQj2Vwtr6dT",
        "outputId": "4ab395bc-ac66-40b7-8530-8f13b0be9887"
      },
      "source": [
        "# Set a word vectorizer\n",
        "vectorizer = Word2VecVectorizer(model)\n",
        "# Get the sentence embeddings for the train dataset\n",
        "Xtrain = vectorizer.fit_transform(x_train)\n",
        "\n",
        "# Get the sentence embeddings for the test dataset\n",
        "Xtest = vectorizer.transform(x_test)\n"
      ],
      "execution_count": null,
      "outputs": [
        {
          "output_type": "stream",
          "name": "stdout",
          "text": [
            "Loading in word vectors...\n",
            "Finished loading in word vectors\n",
            "Numer of samples with no words found: 55 / 2427\n",
            "Numer of samples with no words found: 20 / 1041\n"
          ]
        }
      ]
    },
    {
      "cell_type": "code",
      "metadata": {
        "colab": {
          "base_uri": "https://localhost:8080/"
        },
        "id": "NWNWAFiGtMI8",
        "outputId": "ad0314a7-4609-4d47-cde5-9c7015dddf67"
      },
      "source": [
        "print(Xtrain.shape,Xtest.shape)\n"
      ],
      "execution_count": null,
      "outputs": [
        {
          "output_type": "stream",
          "name": "stdout",
          "text": [
            "(2427, 50) (1041, 50)\n"
          ]
        }
      ]
    },
    {
      "cell_type": "code",
      "metadata": {
        "colab": {
          "base_uri": "https://localhost:8080/"
        },
        "id": "6l2mOUcdtWtS",
        "outputId": "0c68f97a-d7ae-4800-ff8b-611217e7bc94"
      },
      "source": [
        "from sklearn.svm import SVC\n",
        "svm_classifier = SVC()\n",
        "svm_classifier.fit(Xtrain, y_train)\n",
        "\n",
        "print(\"train score:\", svm_classifier.score(Xtrain, y_train))\n",
        "print(\"test score:\", svm_classifier.score(Xtest, y_test))"
      ],
      "execution_count": null,
      "outputs": [
        {
          "output_type": "stream",
          "name": "stdout",
          "text": [
            "train score: 0.7606098063452822\n",
            "test score: 0.7252641690682037\n"
          ]
        }
      ]
    },
    {
      "cell_type": "code",
      "metadata": {
        "id": "1X1ACWAZuxXt"
      },
      "source": [
        "# Create the confussion matrix\n",
        "def plot_confussion_matrix(y_test, y_pred):\n",
        "    ''' Plot the confussion matrix for the target labels and predictions '''\n",
        "    cm = confusion_matrix(y_test, y_pred)\n",
        "\n",
        "    # Create a dataframe with the confussion matrix values\n",
        "    df_cm = pd.DataFrame(cm, range(cm.shape[0]),\n",
        "                  range(cm.shape[1]))\n",
        "    #plt.figure(figsize = (10,7))\n",
        "    # Plot the confussion matrix\n",
        "    sn.set(font_scale=1.4) #for label size\n",
        "    sn.heatmap(df_cm, annot=True,fmt='.0f',annot_kws={\"size\": 10})# font size\n",
        "    plt.show()\n",
        "    \n",
        "# ROC Curve\n",
        "# plot no skill\n",
        "# Calculate the points in the ROC curve\n",
        "def plot_roc_curve(y_test, y_pred):\n",
        "    ''' Plot the ROC curve for the target labels and predictions'''\n",
        "    fpr, tpr, thresholds = roc_curve(y_test, y_pred, pos_label=1)\n",
        "    roc_auc= auc(fpr,tpr)\n",
        "\n",
        "    plt.title('Receiver Operating Characteristic')\n",
        "    plt.plot(fpr, tpr, 'b', label = 'AUC = %0.2f' % roc_auc)\n",
        "    plt.legend(loc = 'lower right')\n",
        "    plt.plot([0, 1], [0, 1],'r--')\n",
        "    plt.xlim([0, 1])\n",
        "    plt.ylim([0, 1])\n",
        "    plt.ylabel('True Positive Rate')\n",
        "    plt.xlabel('False Positive Rate')\n",
        "    plt.show()"
      ],
      "execution_count": null,
      "outputs": []
    },
    {
      "cell_type": "code",
      "metadata": {
        "colab": {
          "base_uri": "https://localhost:8080/",
          "height": 869
        },
        "id": "BWYMyS--t3P_",
        "outputId": "90c88122-a5a1-4f18-bf63-a7c3f27458c0"
      },
      "source": [
        "from sklearn import metrics\n",
        "from sklearn.metrics import confusion_matrix,accuracy_score,roc_auc_score,roc_curve,auc\n",
        "import matplotlib.pyplot as plt\n",
        "import seaborn as sn\n",
        "\n",
        "# Predicting the Test set results\n",
        "y_pred =svm_classifier.predict(Xtest)\n",
        "\n",
        "print(metrics.classification_report(y_test, y_pred,  digits=5))\n",
        "confusion_matrix(y_test, y_pred,)\n",
        "print(confusion_matrix)\n",
        "plot_confussion_matrix(y_test, y_pred)\n",
        "plot_roc_curve(y_test, y_pred)"
      ],
      "execution_count": null,
      "outputs": [
        {
          "output_type": "stream",
          "name": "stderr",
          "text": [
            "/usr/local/lib/python3.7/dist-packages/sklearn/metrics/_classification.py:1308: UndefinedMetricWarning: Precision and F-score are ill-defined and being set to 0.0 in labels with no predicted samples. Use `zero_division` parameter to control this behavior.\n",
            "  _warn_prf(average, modifier, msg_start, len(result))\n",
            "/usr/local/lib/python3.7/dist-packages/sklearn/metrics/_classification.py:1308: UndefinedMetricWarning: Precision and F-score are ill-defined and being set to 0.0 in labels with no predicted samples. Use `zero_division` parameter to control this behavior.\n",
            "  _warn_prf(average, modifier, msg_start, len(result))\n",
            "/usr/local/lib/python3.7/dist-packages/sklearn/metrics/_classification.py:1308: UndefinedMetricWarning: Precision and F-score are ill-defined and being set to 0.0 in labels with no predicted samples. Use `zero_division` parameter to control this behavior.\n",
            "  _warn_prf(average, modifier, msg_start, len(result))\n"
          ]
        },
        {
          "output_type": "stream",
          "name": "stdout",
          "text": [
            "              precision    recall  f1-score   support\n",
            "\n",
            "           0    0.72526   1.00000   0.84076       755\n",
            "           1    0.00000   0.00000   0.00000       286\n",
            "\n",
            "    accuracy                        0.72526      1041\n",
            "   macro avg    0.36263   0.50000   0.42038      1041\n",
            "weighted avg    0.52601   0.72526   0.60977      1041\n",
            "\n",
            "<function confusion_matrix at 0x7f39c38fc200>\n"
          ]
        },
        {
          "output_type": "display_data",
          "data": {
            "image/png": "[encoded data removed]",
            "text/plain": [
              "<Figure size 432x288 with 2 Axes>"
            ]
          },
          "metadata": {}
        },
        {
          "output_type": "display_data",
          "data": {
            "image/png": "[encoded data removed]",
            "text/plain": [
              "<Figure size 432x288 with 1 Axes>"
            ]
          },
          "metadata": {}
        }
      ]
    }
  ]
}